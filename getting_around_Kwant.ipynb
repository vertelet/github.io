{
  "nbformat": 4,
  "nbformat_minor": 0,
  "metadata": {
    "colab": {
      "name": "getting_around_Kwant.ipynb",
      "provenance": [],
      "authorship_tag": "ABX9TyP4zyzDcvqOe1CVx9Gqv6VF"
    },
    "kernelspec": {
      "name": "python3",
      "display_name": "Python 3"
    },
    "language_info": {
      "name": "python"
    }
  },
  "cells": [
    {
      "cell_type": "code",
      "execution_count": null,
      "metadata": {
        "id": "otKa2OcJNXrd"
      },
      "outputs": [],
      "source": [
        ""
      ]
    }
  ]
}